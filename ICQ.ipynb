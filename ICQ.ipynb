{
  "nbformat": 4,
  "nbformat_minor": 0,
  "metadata": {
    "colab": {
      "provenance": [],
      "authorship_tag": "ABX9TyNgTFhQYGngxpIHUp3j2Ru+",
      "include_colab_link": true
    },
    "kernelspec": {
      "name": "python3",
      "display_name": "Python 3"
    },
    "language_info": {
      "name": "python"
    }
  },
  "cells": [
    {
      "cell_type": "markdown",
      "metadata": {
        "id": "view-in-github",
        "colab_type": "text"
      },
      "source": [
        "<a href=\"https://colab.research.google.com/github/Fior-G/ICQ.XXVI/blob/main/ICQ.ipynb\" target=\"_parent\"><img src=\"https://colab.research.google.com/assets/colab-badge.svg\" alt=\"Open In Colab\"/></a>"
      ]
    },
    {
      "cell_type": "markdown",
      "source": [
        "#**Lista de revisão de Álgebra Linear**\n",
        "\n",
        "Al Giovanna Fioravanso Nr 22019 IME XXVI"
      ],
      "metadata": {
        "id": "mQjdJtnx655a"
      }
    },
    {
      "cell_type": "code",
      "source": [
        "import numpy as np\n",
        "import matplotlib.pyplot as plt\n",
        "import cmath"
      ],
      "metadata": {
        "id": "5GlDhsjx7XpI"
      },
      "execution_count": null,
      "outputs": []
    },
    {
      "cell_type": "markdown",
      "source": [
        "Q1"
      ],
      "metadata": {
        "id": "FRkbt_D07SKT"
      }
    },
    {
      "cell_type": "code",
      "source": [
        "a = 1\n",
        "b = 2\n",
        "c = 1\n",
        "\n",
        "def f(x):\n",
        "  return a*x^4 + b*x^2 + c\n",
        "\n",
        "\n",
        "delta = b^2 - 4*a*c\n",
        "\n",
        "# tomando y = x^2 -> f(y)=y^2+2*y+1\n",
        "# solução de y:\n",
        "\n",
        "y1 = (-b+(delta)**(0.5))/(2*a)\n",
        "y2 = (-b-(delta)**(0.5))/(2*a)\n",
        "\n",
        "x1 = -((y1)**(0.5))\n",
        "x2 = ((y1)**(0.5))\n",
        "x3 = -((y2)**(0.5))\n",
        "x4 = ((y2)**(0.5))\n",
        "\n",
        "print(f\"{x1}, {x2}, {x3}, {x4}\")\n"
      ],
      "metadata": {
        "id": "J44vkSx_7RdB"
      },
      "execution_count": null,
      "outputs": []
    },
    {
      "cell_type": "markdown",
      "source": [
        "Q2"
      ],
      "metadata": {
        "id": "COEQn7Dp_PEM"
      }
    },
    {
      "cell_type": "code",
      "source": [
        "expoente_string = input(\"Digite o expoente desejado para o número complexo: \")\n",
        "expoente = int(expoente_string)\n",
        "\n",
        "if expoente % 4 == 0:\n",
        "  complex(1,0)\n",
        "elif expoente % 4 == 1:\n",
        "  complex(0,1)\n",
        "elif expoente % 4 == 2:\n",
        "  complex (-1, 0)\n",
        "elif expoente % 4 == 3:\n",
        "  complex (0, -1)\n",
        "\n",
        "\n",
        "potencia = complex(0,1)**expoente\n",
        "\n",
        "print(f\"O complexo é: {potencia}\")\n",
        "\n"
      ],
      "metadata": {
        "id": "8ER8c3GO_QKr"
      },
      "execution_count": null,
      "outputs": []
    },
    {
      "cell_type": "markdown",
      "source": [
        "Q3"
      ],
      "metadata": {
        "id": "1ETYy0Oq9FrV"
      }
    },
    {
      "cell_type": "code",
      "execution_count": null,
      "metadata": {
        "id": "-jhxaIgX63iP"
      },
      "outputs": [],
      "source": [
        "def soma_complexos(complexo1, complexo2):\n",
        "  return complexo1 + complexo2\n",
        "def produto_complexos(complexo1, complexo2):\n",
        "  return complexo1 * complexo2\n",
        "\n",
        "c1 = complex(3, -1)\n",
        "c2 = complex(1, 4)\n",
        "\n",
        "print(f\"A soma é {soma_complexos(c1, c2)}\")\n",
        "print(f\"O produto é {produto_complexos(c1, c2)}\")"
      ]
    },
    {
      "cell_type": "markdown",
      "source": [
        "Q4"
      ],
      "metadata": {
        "id": "u5nXhQESBkaz"
      }
    },
    {
      "cell_type": "code",
      "source": [
        "def f(x):\n",
        "  return x**2+2*x+2\n",
        "\n",
        "solucao = f(complex(-1, 1))\n",
        "\n",
        "if solucao == 0:\n",
        "  print(\"O complexo dado é solução do polinômio\")\n",
        "else:\n",
        "  print(\"O complexo não é solução\")"
      ],
      "metadata": {
        "id": "9AP6zjOBBlj7"
      },
      "execution_count": null,
      "outputs": []
    },
    {
      "cell_type": "markdown",
      "source": [
        "Q5"
      ],
      "metadata": {
        "id": "ZHE8OxHMCcVg"
      }
    },
    {
      "cell_type": "code",
      "source": [
        "complexo1 = complex(input(\"Digite um número complexo na forma a+bj: \"))\n",
        "complexo2 = complex(input(\"Digite um número complexo na forma a+bj: \"))\n",
        "\n",
        "def soma_esquerda(n1,n2):\n",
        "  return n1+n2\n",
        "def soma_direita(n1,n2):\n",
        "  return n2+n1\n",
        "\n",
        "if ((soma_esquerda(complexo1, complexo2)) == (soma_direita(complexo1, complexo2))):\n",
        "  print(\"Existe comutatividade da soma\")\n",
        "else:\n",
        "  print(\"Não existe comutatividade da soma\")\n",
        "\n",
        "def produto_esquerda(n1,n2):\n",
        "  return n1*n2\n",
        "def produto_direita(n1,n2):\n",
        "  return n2*n1\n",
        "\n",
        "if ((produto_esquerda(complexo1, complexo2)) == (produto_direita(complexo1, complexo2))):\n",
        "  print(\"Existe comutatividade do produto\")\n",
        "else:\n",
        "  print(\"Não existe comutatividade do produto\")"
      ],
      "metadata": {
        "id": "-P_jbUnnCZ0X"
      },
      "execution_count": null,
      "outputs": []
    },
    {
      "cell_type": "code",
      "source": [
        "complexo1 = complex(input(\"Digite um número complexo na forma a+bj: \"))\n",
        "complexo2 = complex(input(\"Digite um número complexo na forma a+bj: \"))\n",
        "complexo3 = complex(input(\"Digite um número complexo na forma a+bj: \"))\n",
        "\n",
        "def soma_esquerda(n1,n2,n3):\n",
        "  return (n1+n2)+n3\n",
        "def soma_direita(n1,n2,n3):\n",
        "  return n1+(n2+n3)\n",
        "\n",
        "if ((soma_esquerda(complexo1, complexo2, complexo3)) == (soma_direita(complexo1, complexo2, complexo3))):\n",
        "  print(\"Existe associatividade da soma\")\n",
        "else:\n",
        "  print(\"Não existe associatividade da soma\")\n",
        "\n",
        "def produto_esquerda(n1,n2,n3):\n",
        "  return (n1*n2)*n3\n",
        "def produto_direita(n1,n2,n3):\n",
        "  return n1*(n2*n3)\n",
        "\n",
        "if ((produto_esquerda(complexo1, complexo2, complexo3)) == (produto_direita(complexo1, complexo2, complexo3))):\n",
        "  print(\"Existe associatividade do produto\")\n",
        "else:\n",
        "  print(\"Não existe associatividade do produto\")"
      ],
      "metadata": {
        "id": "ZO4l8rb3G8Lb"
      },
      "execution_count": null,
      "outputs": []
    },
    {
      "cell_type": "code",
      "source": [
        "c1 = complex(input(\"Digite um número complexo na forma a+bj: \"))\n",
        "c2 = complex(input(\"Digite um número complexo na forma a+bj: \"))\n",
        "c3 = complex(input(\"Digite um número complexo na forma a+bj: \"))\n",
        "\n",
        "\n",
        "if ((c1*(c2+c3)) == ((c1*c2)+(c1*c3))):\n",
        "  print(\"Existe distributividade\")\n",
        "else:\n",
        "  print(\"Não existe distributividade\")"
      ],
      "metadata": {
        "id": "JXQCVyVaHa8E"
      },
      "execution_count": null,
      "outputs": []
    },
    {
      "cell_type": "markdown",
      "source": [
        "Q6"
      ],
      "metadata": {
        "id": "SFgr1lQfCeBE"
      }
    },
    {
      "cell_type": "code",
      "source": [
        "c1 = complex(input(\"Digite um número complexo na forma a+bj: \"))\n",
        "c2 = complex(input(\"Digite um número complexo na forma a+bj: \"))\n",
        "\n",
        "if ( (abs(c1)*abs(c2)) == abs(c1*c2) ):\n",
        "  print(\"O módulo do produto de dois complexos é o produto dos módulos deles\")\n",
        "else:\n",
        "  print(\"O módulo do produto de dois complexos não é o produto dos módulos deles\")\n"
      ],
      "metadata": {
        "id": "_M32IwoECbUE"
      },
      "execution_count": null,
      "outputs": []
    },
    {
      "cell_type": "code",
      "source": [
        "c1 = complex(input(\"Digite um número complexo na forma a+bj: \"))\n",
        "c2 = complex(input(\"Digite um número complexo na forma a+bj: \"))\n",
        "\n",
        "if ((abs(c1+c2)) <= abs(c1) + abs(c2)):\n",
        "  print(\"A desigualdade triangular é válida\")\n",
        "else:\n",
        "  print(\"A desigualdade triangular não é válida\")"
      ],
      "metadata": {
        "id": "w-ahtJAPITAf"
      },
      "execution_count": null,
      "outputs": []
    },
    {
      "cell_type": "markdown",
      "source": [
        "Q7"
      ],
      "metadata": {
        "id": "tFclaLAbCa36"
      }
    },
    {
      "cell_type": "code",
      "source": [
        "c1 = complex(input(\"Digite um número complexo na forma a+bj: \"))\n",
        "c2 = complex(input(\"Digite um número complexo na forma a+bj: \"))\n",
        "\n",
        "if (((c1.conjugate() + c2.conjugate())) == (c1+c2).conjugate()):\n",
        "  print(\"A soma dos conjugados é o conjugado da soma\")\n",
        "else:\n",
        "  print(\"A soma dos conjugados não é o conjugado da soma\")\n",
        "\n",
        "if (((c1.conjugate() * c2.conjugate())) == (c1*c2).conjugate()):\n",
        "  print(\"O produto dos conjugados é o conjugado do produto\")\n",
        "else:\n",
        "  print(\"O produto dos conjugados não é o conjugado do produto\")"
      ],
      "metadata": {
        "id": "Eye-NcvwCfEv"
      },
      "execution_count": null,
      "outputs": []
    },
    {
      "cell_type": "markdown",
      "source": [
        "Q8"
      ],
      "metadata": {
        "id": "ojQcNKYSRzLs"
      }
    },
    {
      "cell_type": "code",
      "source": [
        "import matplotlib.pyplot as plt\n",
        "\n",
        "a = (2, -1)\n",
        "b = (1, 1)\n",
        "\n",
        "soma = ((a[0] + b[0]), (a[1] + b[1]))\n",
        "subtracao = ((a[0] - b[0]), (a[1] - b[1]))\n",
        "\n",
        "plt.plot([0, a[0]], [0, a[1]], 'r', label='A')\n",
        "plt.plot([0, b[0]], [0, b[1]], 'b', label='B')\n",
        "plt.plot([0, soma[0]], [0, soma[1]], label='Soma')\n",
        "plt.plot([0, subtracao[0]], [0, subtracao[1]], label='Subtração')\n",
        "plt.plot(a[0], a[1], 'or')\n",
        "plt.plot(b[0], b[1], 'ob')\n",
        "\n",
        "\n",
        "plt.legend()\n",
        "plt.grid()\n",
        "plt.show()\n"
      ],
      "metadata": {
        "id": "aoV6Zw0aR0T4"
      },
      "execution_count": null,
      "outputs": []
    },
    {
      "cell_type": "markdown",
      "source": [
        "Q9"
      ],
      "metadata": {
        "id": "YI38EGMDSwvt"
      }
    },
    {
      "cell_type": "code",
      "source": [
        "import cmath\n",
        "\n",
        "c1 = complex(2,-1)+complex(1,1)\n",
        "c1_polar = cmath.polar(c1)\n",
        "print(f\"{c1_polar}\")\n",
        "\n",
        "c2 = complex(2,-1)-complex(1,1)\n",
        "c2_polar = cmath.polar(c2)\n",
        "print(f\"{c2_polar}\")"
      ],
      "metadata": {
        "id": "YPkqq19dSxzo",
        "colab": {
          "base_uri": "https://localhost:8080/"
        },
        "outputId": "4e03a62f-10a0-4bc1-b745-968b4abb488a"
      },
      "execution_count": null,
      "outputs": [
        {
          "output_type": "stream",
          "name": "stdout",
          "text": [
            "(3.0, 0.0)\n",
            "(2.23606797749979, -1.1071487177940904)\n"
          ]
        }
      ]
    },
    {
      "cell_type": "markdown",
      "source": [
        "Q10"
      ],
      "metadata": {
        "id": "ohMTStPUUcsn"
      }
    },
    {
      "cell_type": "code",
      "source": [
        "# existe nativamente da biblioteca cmath a função cmath.polar, mas podemos criar outra:\n",
        "\n",
        "import numpy as np\n",
        "\n",
        "a = float(input(\"Parte real do complexo desejado: \"))\n",
        "b = float(input(\"Parte imaginária do complexo desejado: \"))\n",
        "\n",
        "modulo = (a**2 + b**2)**(0.5)\n",
        "phi = np.arctan(b/a)\n",
        "\n",
        "print(f\"A representação polar do complexo ({a})+({b}j) é: {modulo}cis({phi})\")"
      ],
      "metadata": {
        "id": "bU5d_QX3Ub4s",
        "colab": {
          "base_uri": "https://localhost:8080/"
        },
        "outputId": "9ce926c7-767d-4d01-ed42-211cdd2aa060"
      },
      "execution_count": null,
      "outputs": [
        {
          "output_type": "stream",
          "name": "stdout",
          "text": [
            "Parte real do complexo desejado: 3\n",
            "Parte imaginária do complexo desejado: 2\n",
            "A representação polar do complexo (3.0)+(2.0j) é: 3.605551275463989cis(0.5880026035475675)\n"
          ]
        }
      ]
    },
    {
      "cell_type": "markdown",
      "source": [
        "Q11"
      ],
      "metadata": {
        "id": "LnVLly6pn6vA"
      }
    },
    {
      "cell_type": "code",
      "source": [
        "import matplotlib.pyplot as plt\n",
        "\n",
        "c = complex(input(\"Digite um número complexo na forma a+bj: \"))\n",
        "r0 = float(input(\"Digite a parte real do número complexo que multiplica c: \"))\n",
        "a = complex(r0, 0)\n",
        "\n",
        "multiplicacao = c*a\n",
        "print(f\"{multiplicacao}\")\n",
        "\n",
        "plt.plot([0, multiplicacao.real], [0, multiplicacao.imag], 'c', label = 'Multiplicação')\n",
        "plt.plot([0, c.real], [0, c.imag], 'r', label = 'c')\n",
        "plt.plot([0, a.real], [0, a.imag], 'b', label = 'a')\n",
        "plt.plot(c.real, c.imag, 'or')\n",
        "plt.plot(a.real, a.imag, 'ob')\n",
        "plt.plot(multiplicacao.real, multiplicacao.imag, 'oc')\n",
        "\n",
        "\n",
        "\n",
        "plt.legend()\n",
        "plt.grid()\n",
        "plt.show()\n"
      ],
      "metadata": {
        "id": "s2YM6CvHn7rK",
        "colab": {
          "base_uri": "https://localhost:8080/",
          "height": 482
        },
        "outputId": "7d141830-1b27-46e6-f31c-4028e7abbb62"
      },
      "execution_count": null,
      "outputs": [
        {
          "output_type": "stream",
          "name": "stdout",
          "text": [
            "Digite um número complexo na forma a+bj: 2+j\n",
            "Digite a parte real do número complexo que multiplica c: 2\n",
            "(4+2j)\n"
          ]
        },
        {
          "output_type": "display_data",
          "data": {
            "text/plain": [
              "<Figure size 640x480 with 1 Axes>"
            ],
            "image/png": "[encoded data removed]"
          },
          "metadata": {}
        }
      ]
    },
    {
      "cell_type": "code",
      "source": [
        "import matplotlib.pyplot as plt\n",
        "\n",
        "c = complex(input(\"Digite um número complexo na forma a+bj: \"))\n",
        "i0 = float(input(\"Digite a parte imaginária do número complexo que multiplica c: \"))\n",
        "a = complex(0, i0)\n",
        "\n",
        "multiplicacao = c*a\n",
        "print(f\"{multiplicacao}\")\n",
        "\n",
        "plt.plot([0, multiplicacao.real], [0, multiplicacao.imag], 'c', label = 'Multiplicação')\n",
        "plt.plot([0, c.real], [0, c.imag], 'r', label = 'c')\n",
        "plt.plot([0, a.real], [0, a.imag], 'b', label = 'a')\n",
        "plt.plot(c.real, c.imag, 'or')\n",
        "plt.plot(a.real, a.imag, 'ob')\n",
        "plt.plot(multiplicacao.real, multiplicacao.imag, 'oc')\n",
        "\n",
        "\n",
        "\n",
        "plt.legend()\n",
        "plt.grid()\n",
        "plt.show()"
      ],
      "metadata": {
        "id": "Ph9T5GBKugKO",
        "colab": {
          "base_uri": "https://localhost:8080/",
          "height": 482
        },
        "outputId": "1ae46b7a-ed36-41c0-a29d-22b62253dd52"
      },
      "execution_count": null,
      "outputs": [
        {
          "output_type": "stream",
          "name": "stdout",
          "text": [
            "Digite um número complexo na forma a+bj: 1+j\n",
            "Digite a parte imaginária do número complexo que multiplica c: 3\n",
            "(-3+3j)\n"
          ]
        },
        {
          "output_type": "display_data",
          "data": {
            "text/plain": [
              "<Figure size 640x480 with 1 Axes>"
            ],
            "image/png": "[encoded data removed]"
          },
          "metadata": {}
        }
      ]
    },
    {
      "cell_type": "code",
      "source": [
        "# import matplotlib.pyplot as plt\n",
        "\n",
        "# c = complex(input(\"Digite um número complexo na forma a+bj: \"))\n",
        "# r0 = float(input(\"Digite a parte real do número complexo que multiplica c: \"))\n",
        "# i0 = float(input(\"Digite a parte imaginária do número complexo que multiplica c: \"))\n",
        "# a = complex(r0, i0)\n",
        "\n",
        "# multiplicacao = c*a\n",
        "# print(f\"{multiplicacao}\")\n",
        "\n",
        "# plt.plot([0, multiplicacao.real], [0, multiplicacao.imag], 'c', label = 'Multiplicação')\n",
        "# plt.plot([0, c.real], [0, c.imag], 'r', label = 'c')\n",
        "# plt.plot([0, a.real], [0, a.imag], 'b', label = 'a')\n",
        "# plt.plot(c.real, c.imag, 'or')\n",
        "# plt.plot(a.real, a.imag, 'ob')\n",
        "# plt.plot(multiplicacao.real, multiplicacao.imag, 'oc')\n",
        "\n",
        "\n",
        "\n",
        "# plt.legend()\n",
        "# plt.grid()\n",
        "# plt.show()"
      ],
      "metadata": {
        "id": "JipBJsWUvHH3"
      },
      "execution_count": null,
      "outputs": []
    },
    {
      "cell_type": "markdown",
      "source": [
        "Q12"
      ],
      "metadata": {
        "id": "Rnho-Zukveyh"
      }
    },
    {
      "cell_type": "code",
      "source": [
        "import matplotlib.pyplot as plt\n",
        "\n",
        "c = complex(input(\"Digite um número complexo na forma a+bj: \"))\n",
        "\n",
        "xs = [(c**exp).real for exp in range(1,11)]\n",
        "ys = [(c**exp).imag for exp in range(1,11)]\n",
        "plt.plot(xs, ys, marker='o', linestyle='-', color='k')\n",
        "\n",
        "\n",
        "\n",
        "plt.grid()\n",
        "plt.show()"
      ],
      "metadata": {
        "id": "-AXXdKHlvgG0",
        "colab": {
          "base_uri": "https://localhost:8080/",
          "height": 447
        },
        "outputId": "7637f852-fae9-4e32-ccfc-18cdd59a400c"
      },
      "execution_count": null,
      "outputs": [
        {
          "name": "stdout",
          "output_type": "stream",
          "text": [
            "Digite um número complexo na forma a+bj: 1+j\n"
          ]
        },
        {
          "output_type": "display_data",
          "data": {
            "text/plain": [
              "<Figure size 640x480 with 1 Axes>"
            ],
            "image/png": "[encoded data removed]"
          },
          "metadata": {}
        }
      ]
    },
    {
      "cell_type": "markdown",
      "source": [
        "Q13"
      ],
      "metadata": {
        "id": "ckDU9ZNQzDY8"
      }
    },
    {
      "cell_type": "code",
      "source": [
        "import matplotlib.pyplot as plt\n",
        "\n",
        "c = complex(input(\"Digite um número complexo na forma a+bj: \"))\n",
        "i0 = float(input(\"Digite a parte imaginária do número complexo que é somado a c: \"))\n",
        "a = complex(0, i0)\n",
        "\n",
        "soma = c+a\n",
        "print(f\"{soma}\")\n",
        "\n",
        "plt.plot([0, soma.real], [0, soma.imag], 'c', label = 'Multiplicação')\n",
        "plt.plot([0, c.real], [0, c.imag], 'r', label = 'c')\n",
        "plt.plot([0, a.real], [0, a.imag], 'b', label = 'a')\n",
        "plt.plot(c.real, c.imag, 'or')\n",
        "plt.plot(a.real, a.imag, 'ob')\n",
        "plt.plot(soma.real, soma.imag, 'oc')\n",
        "\n",
        "\n",
        "plt.legend()\n",
        "plt.grid()\n",
        "plt.show()"
      ],
      "metadata": {
        "id": "JKWBZSZhzEtC",
        "colab": {
          "base_uri": "https://localhost:8080/",
          "height": 482
        },
        "outputId": "8b868a24-15c0-4c5b-d744-1d6a335f95e6"
      },
      "execution_count": null,
      "outputs": [
        {
          "output_type": "stream",
          "name": "stdout",
          "text": [
            "Digite um número complexo na forma a+bj: 1+j\n",
            "Digite a parte imaginária do número complexo que é somado a c: 6\n",
            "(1+7j)\n"
          ]
        },
        {
          "output_type": "display_data",
          "data": {
            "text/plain": [
              "<Figure size 640x480 with 1 Axes>"
            ],
            "image/png": "[encoded data removed]"
          },
          "metadata": {}
        }
      ]
    },
    {
      "cell_type": "markdown",
      "source": [
        "Q14"
      ],
      "metadata": {
        "id": "LRqJBPphzd-i"
      }
    },
    {
      "cell_type": "code",
      "source": [
        "a = d = 0\n",
        "b = c = 1\n",
        "\n",
        "def moebius(x):\n",
        "  return ((a*x+b)/(c*x+d))\n",
        "\n",
        "\n",
        "complexo = complex(input(\"Digite um número complexo na forma a+bj: \"))\n",
        "transformada = moebius(complexo)\n",
        "print(f\"A transformada é: {transformada}\")"
      ],
      "metadata": {
        "id": "BsH2QRVLzfjX",
        "colab": {
          "base_uri": "https://localhost:8080/"
        },
        "outputId": "3c43ad6f-9607-49eb-ff33-216d62470f22"
      },
      "execution_count": null,
      "outputs": [
        {
          "output_type": "stream",
          "name": "stdout",
          "text": [
            "Digite um número complexo na forma a+bj: 3+5j\n",
            "A transformada é: (0.08823529411764706-0.14705882352941177j)\n"
          ]
        }
      ]
    },
    {
      "cell_type": "markdown",
      "source": [
        "Q15"
      ],
      "metadata": {
        "id": "jBoLopGs2Dyz"
      }
    },
    {
      "cell_type": "code",
      "source": [
        "import numpy as np\n",
        "import cmath\n",
        "\n",
        "n = int(input(\"Digite a dimensão das matrizes: \"))\n",
        "\n",
        "matriz1 = []\n",
        "for i in range(n):\n",
        "  linha = []\n",
        "  for j in range(n):\n",
        "    entrada = complex(input(f\"Escreva na forma a+bj o valor da entrada E{i+1}{j+1} da matriz1: \"))\n",
        "    linha.append(entrada)\n",
        "  matriz1.append(linha)\n",
        "\n",
        "matriz2 = []\n",
        "for i in range(n):\n",
        "  linha = []\n",
        "  for j in range(n):\n",
        "    entrada = complex(input(f\"Escreva na forma a+bj o valor da entrada E{i+1}{j+1} da matriz2: \"))\n",
        "    linha.append(entrada)\n",
        "  matriz2.append(linha)\n",
        "\n",
        "# print(np.matrix(matriz1))\n",
        "# print(np.matrix(matriz2))\n",
        "\n",
        "\n",
        "# matriz1 = [[2+1j, -1+1j], [3, -3+1j]]\n",
        "# matriz2 = [[1+1j, -1j], [2-1j, -2]]\n",
        "\n",
        "\n",
        "def adicao(m1, m2):\n",
        "  soma = []\n",
        "  for i in range(len(m1)):\n",
        "    linha = []\n",
        "    for j in range(len(m1)):\n",
        "      entrada = m1[i][j]+m2[i][j]\n",
        "      linha.append(entrada)\n",
        "    soma.append(linha)\n",
        "  return soma\n",
        "\n",
        "def multiplicacaoEscalar(m1, esc):\n",
        "  multiplicada = []\n",
        "  for i in range(len(m1)):\n",
        "    linha = []\n",
        "    for j in range(len(m1)):\n",
        "      mult = esc*(m1[i][j])\n",
        "      linha.append(mult)\n",
        "    multiplicada.append(linha)\n",
        "  return multiplicada\n",
        "\n",
        "def inversa(m1):\n",
        "  invertida = []\n",
        "  for i in range(len(m1)):\n",
        "    linha = []\n",
        "    for j in range(len(m1)):\n",
        "      inv = (-1)*(m1[i][j])\n",
        "      linha.append(inv)\n",
        "    invertida.append(linha)\n",
        "  return invertida\n",
        "\n",
        "\n",
        "print(\"\\nAdição das matrizes informadas: \")\n",
        "print(np.matrix(adicao(matriz1, matriz2)))\n",
        "print(\"\\n\")\n",
        "\n",
        "print(\"Multiplicação por escalar da matriz1: \")\n",
        "escalar = float(input(\"Digite um escalar: \"))\n",
        "print(np.matrix(multiplicacaoEscalar(matriz1, escalar)))\n",
        "print(\"\\n\")\n",
        "\n",
        "print(\"Inversão da matriz1: \")\n",
        "print(np.matrix(inversa(matriz1)))\n",
        "print(\"\\n\")\n"
      ],
      "metadata": {
        "id": "QXJ7RIc52Dfo"
      },
      "execution_count": null,
      "outputs": []
    },
    {
      "cell_type": "markdown",
      "source": [
        "Q16"
      ],
      "metadata": {
        "id": "wNGamIhj2_dl"
      }
    },
    {
      "cell_type": "code",
      "source": [
        "def transposta(matriz):\n",
        "  return [[matriz[i][j] for i in range(m)] for j in range(n)]\n",
        "\n",
        "def conjugada(matriz):\n",
        "  return [[matriz[i][j].conjugate() for j in range(n)] for i in range(m)]\n",
        "\n",
        "def dagger(matriz):\n",
        "  return [[matriz[i][j].conjugate() for i in range(m)] for j in range(n)]\n",
        "\n",
        "m = int(input(\"Insira o número de linhas da matriz: \"))\n",
        "n = int(input(\"Insira o número de colunas da matriz: \"))\n",
        "\n",
        "matriz = [[complex(input(f\"Escreva na forma a+bj o valor da entrada E{i+1}{j+1} da matriz: \")) for j in range(n)] for i in range(m)]\n",
        "print(np.matrix(matriz))\n",
        "\n",
        "\n",
        "print(np.matrix(transposta(matriz)))\n",
        "print(np.matrix(conjugada(matriz)))\n",
        "print(np.matrix(dagger(matriz)))"
      ],
      "metadata": {
        "id": "clcFs1LW3B0s"
      },
      "execution_count": null,
      "outputs": []
    },
    {
      "cell_type": "markdown",
      "source": [
        "Q17"
      ],
      "metadata": {
        "id": "qc9FT9SQb8CG"
      }
    },
    {
      "cell_type": "code",
      "source": [
        "m = int(input(\"Insira o número de linhas da matriz1: \"))\n",
        "n = int(input(\"Insira o número de colunas da matriz1/linhas da matriz2: \"))\n",
        "p = int(input(\"Insira o número de colunas da matriz2: \"))\n",
        "\n",
        "matriz1 = [[complex(input(f\"Escreva na forma a+bj o valor da entrada E{i+1}{j+1} da matriz1: \")) for j in range(n)] for i in range(m)]\n",
        "matriz2 = [[complex(input(f\"Escreva na forma a+bj o valor da entrada E{i+1}{j+1} da matriz2: \")) for j in range(p)] for i in range(n)]\n",
        "\n",
        "\n",
        "def multiplicacaoMatrizes(m1,m2):\n",
        "  matriz = [[0 for _ in range(m)] for _ in range (p)]\n",
        "  for i in range(m):\n",
        "    for k in range(p):\n",
        "      for j in range(n):\n",
        "        matriz[i][k] += m1[i][j]*m2[j][k]\n",
        "  return matriz\n",
        "\n",
        "print(multiplicacaoMatrizes(matriz1, matriz2))\n",
        "\n",
        "\n"
      ],
      "metadata": {
        "id": "yd96nL8-b9Ux"
      },
      "execution_count": null,
      "outputs": []
    },
    {
      "cell_type": "markdown",
      "source": [
        "Q18"
      ],
      "metadata": {
        "id": "Dfs6YUuylOVv"
      }
    },
    {
      "cell_type": "code",
      "source": [
        "def tracoDaMatriz(matriz):\n",
        "  traco = 0\n",
        "  for i in range(m):\n",
        "    traco += matriz[i][i]\n",
        "\n",
        "m = int(input(\"Insira a ordem da matriz quadrada: \"))\n",
        "matriz = [[complex(input(f\"Escreva na forma a+bj o valor da entrada E{i+1}{j+1} da matriz: \")) for j in range(m)] for i in range(m)]\n",
        "\n",
        "print(tracoDaMatriz(matriz))"
      ],
      "metadata": {
        "id": "D-otpmVDlN2V"
      },
      "execution_count": null,
      "outputs": []
    },
    {
      "cell_type": "markdown",
      "source": [
        "Q19"
      ],
      "metadata": {
        "id": "_4XzzWWMmX-H"
      }
    },
    {
      "cell_type": "code",
      "source": [
        "def transposta(matriz):\n",
        "  return [[matriz[i][j] for i in range(m)] for j in range(n)]\n",
        "\n",
        "def conjugada(matriz):\n",
        "  return [[matriz[i][j].conjugate() for j in range(n)] for i in range(m)]\n",
        "\n",
        "m = int(input(\"Insira o número de linhas da matriz: \"))\n",
        "n = int(input(\"Insira o número de colunas da matriz: \"))\n",
        "\n",
        "matriz = [[complex(input(f\"Escreva na forma a+bj o valor da entrada E{i+1}{j+1} da matriz: \")) for j in range(n)] for i in range(m)]\n",
        "\n",
        "if conjugada(matriz)==transposta(matriz):\n",
        "  print(\"A matriz é hermitiana\")\n",
        "else:\n",
        "  print(\"Não é hermitiana\")"
      ],
      "metadata": {
        "colab": {
          "base_uri": "https://localhost:8080/"
        },
        "id": "34R4LbO3mY_r",
        "outputId": "9c393d4c-4abb-419f-ffbd-56bd8c050324"
      },
      "execution_count": null,
      "outputs": [
        {
          "output_type": "stream",
          "name": "stdout",
          "text": [
            "Insira o número de linhas da matriz: 1\n",
            "Insira o número de colunas da matriz: 1\n",
            "Escreva na forma a+bj o valor da entrada E11 da matriz: 1\n",
            "A matriz é hermitiana\n"
          ]
        }
      ]
    },
    {
      "cell_type": "markdown",
      "source": [
        "Q20"
      ],
      "metadata": {
        "id": "-yQRpiUAnKik"
      }
    },
    {
      "cell_type": "code",
      "source": [
        "def dagger(matriz):\n",
        "  return [[matriz[i][j].conjugate() for i in range(m)] for j in range(m)]\n",
        "\n",
        "def multiplicacaoMatrizes(m1,m2):\n",
        "  matriz = [[0 for _ in range(m)] for _ in range (m)]\n",
        "  for i in range(m):\n",
        "    for k in range(m):\n",
        "      for j in range(m):\n",
        "        matriz[i][k] += m1[i][j]*m2[j][k]\n",
        "  return matriz\n",
        "\n",
        "m = int(input(\"Insira a ordem da matriz: \"))\n",
        "\n",
        "matriz = [[complex(input(f\"Escreva na forma a+bj o valor da entrada E{i+1}{j+1} da matriz: \")) for j in range(m)] for i in range(m)]\n",
        "\n",
        "if multiplicacaoMatrizes(matriz, dagger(matriz)) == multiplicacaoMatrizes(dagger(matriz), matriz):\n",
        "  for i in range(m):\n",
        "    for k in range(m):\n",
        "      tol = 1e-5\n",
        "      if i==k:\n",
        "        if abs(multiplicacaoMatrizes(matriz, dagger(matriz))[i][k] - 1)<tol: continue\n",
        "        else:\n",
        "          print(\"Não é unitária\")\n",
        "          break\n",
        "      else:\n",
        "         if abs(multiplicacaoMatrizes(matriz, dagger(matriz))[i][k])<tol: continue\n",
        "         else:\n",
        "          print(\"Não é unitária\")\n",
        "          break\n",
        "  print(\"A matriz é unitária\")\n",
        "else:\n",
        "  print(\"Não é unitária\")\n"
      ],
      "metadata": {
        "colab": {
          "base_uri": "https://localhost:8080/"
        },
        "id": "FdAokAEJnLuT",
        "outputId": "bfecc547-ec31-4dc8-d63b-f925194dde2d"
      },
      "execution_count": null,
      "outputs": [
        {
          "output_type": "stream",
          "name": "stdout",
          "text": [
            "Insira a ordem da matriz: 3\n",
            "Escreva na forma a+bj o valor da entrada E11 da matriz: j\n",
            "Escreva na forma a+bj o valor da entrada E12 da matriz: 0\n",
            "Escreva na forma a+bj o valor da entrada E13 da matriz: 0\n",
            "Escreva na forma a+bj o valor da entrada E21 da matriz: 0\n",
            "Escreva na forma a+bj o valor da entrada E22 da matriz: j\n",
            "Escreva na forma a+bj o valor da entrada E23 da matriz: 0\n",
            "Escreva na forma a+bj o valor da entrada E31 da matriz: 0\n",
            "Escreva na forma a+bj o valor da entrada E32 da matriz: 0\n",
            "Escreva na forma a+bj o valor da entrada E33 da matriz: j\n",
            "A matriz é unitária\n"
          ]
        }
      ]
    },
    {
      "cell_type": "markdown",
      "source": [
        "Q21"
      ],
      "metadata": {
        "id": "fLV5A0-p4OAV"
      }
    },
    {
      "cell_type": "code",
      "source": [
        "matriz1 = [[1+1j],[2],[3],[5]]\n",
        "matriz2 = [[7],[11],[13]]\n",
        "\n",
        "def produtoTensorial(m1, m2):\n",
        "  coluna = []\n",
        "  for a in range(len(m1)):\n",
        "    coluninha = []\n",
        "    for b in range(len(m2)):\n",
        "      elemento = m1[a][0]*m2[b][0]\n",
        "      coluninha.append(elemento)\n",
        "    coluna.append(coluninha)\n",
        "  colunona = sum(coluna, [])\n",
        "  return colunona\n",
        "\n",
        "print(produtoTensorial(matriz1, matriz2))"
      ],
      "metadata": {
        "colab": {
          "base_uri": "https://localhost:8080/"
        },
        "id": "8MXxqqmK4PXu",
        "outputId": "f8a68ed4-217d-4d33-de12-1127546c1031"
      },
      "execution_count": null,
      "outputs": [
        {
          "output_type": "stream",
          "name": "stdout",
          "text": [
            "[(7+7j), (11+11j), (13+13j), 14, 22, 26, 21, 33, 39, 35, 55, 65]\n"
          ]
        }
      ]
    }
  ]
}